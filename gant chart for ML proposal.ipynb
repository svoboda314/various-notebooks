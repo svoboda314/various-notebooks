{
 "cells": [
  {
   "cell_type": "code",
   "execution_count": 2,
   "metadata": {
    "scrolled": true
   },
   "outputs": [
    {
     "data": {
      "text/plain": [
       "<matplotlib.legend.Legend at 0x111c826a0>"
      ]
     },
     "execution_count": 2,
     "metadata": {},
     "output_type": "execute_result"
    },
    {
     "data": {
      "image/png": "[encoded data removed]",
      "text/plain": [
       "<Figure size 432x288 with 1 Axes>"
      ]
     },
     "metadata": {},
     "output_type": "display_data"
    }
   ],
   "source": [
    "import matplotlib.pyplot as plt\n",
    "%matplotlib inline  \n",
    "\n",
    "gant_chart = dict([\n",
    "    ('aim1a', ('r', 0, 2, 0.50)),\n",
    "    ('aim1b', ('gold', 0.5, 2.5, 0.50)),\n",
    "    ('aim1c', ('orange', 0, 3, 0.50)),\n",
    "    ('aim2a', ('grey', 0, 1.5, 0.50)),\n",
    "    ('aim2b', ('lightgrey', 1.5, 5, 0.50)),\n",
    "    ('aim3a', ('olivedrab', 0, 5, 0.50)),\n",
    "    ('aim3b', ('palegreen', 0., 3, 0.50)),\n",
    "    ('aim3c', ('darkgreen', 0., 3, 0.50)),    \n",
    "    ('aim4a', ('b', 1, 3, 0.50)),\n",
    "    ('aim4b', ('deepskyblue', 3, 5, 0.50)),\n",
    "    ('aim4c', ('aqua', 4, 5, 0.50)),\n",
    "    ('aim4d', ('slateblue', 4, 5, 0.50)),\n",
    "    ('aim4e', ('navy', 4, 5, 0.50))\n",
    "])\n",
    "\n",
    "delta= 1./(len(gant_chart)+2)\n",
    "offset=1-delta\n",
    "\n",
    "for k in gant_chart:\n",
    "#    print(k)\n",
    "    v = gant_chart[k]\n",
    "    plt.plot(v[1:3], [offset, offset], v[0], linewidth=10*v[3])\n",
    "    offset-=delta\n",
    "    \n",
    "plt.ylim((0, 1))\n",
    "plt.xlim((0, 7))\n",
    "\n",
    "plt.xlabel('Time (years)')\n",
    "plt.yticks([])\n",
    "plt.xticks([0, 1, 2, 3, 4, 5])\n",
    "\n",
    "\n",
    "#legend()\n",
    "plt.legend(gant_chart.keys())"
   ]
  },
  {
   "cell_type": "code",
   "execution_count": 58,
   "metadata": {},
   "outputs": [
    {
     "data": {
      "text/plain": [
       "12"
      ]
     },
     "execution_count": 58,
     "metadata": {},
     "output_type": "execute_result"
    }
   ],
   "source": [
    "len(gant_chart)"
   ]
  },
  {
   "cell_type": "code",
   "execution_count": null,
   "metadata": {},
   "outputs": [],
   "source": []
  }
 ],
 "metadata": {
  "kernelspec": {
   "display_name": "Python 3",
   "language": "python",
   "name": "python3"
  },
  "language_info": {
   "codemirror_mode": {
    "name": "ipython",
    "version": 3
   },
   "file_extension": ".py",
   "mimetype": "text/x-python",
   "name": "python",
   "nbconvert_exporter": "python",
   "pygments_lexer": "ipython3",
   "version": "3.6.5"
  }
 },
 "nbformat": 4,
 "nbformat_minor": 2
}
